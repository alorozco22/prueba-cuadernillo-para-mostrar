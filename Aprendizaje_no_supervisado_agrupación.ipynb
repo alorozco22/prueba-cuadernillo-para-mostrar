{
 "cells": [
  {
   "cell_type": "markdown",
   "id": "6dzM2HlWlMaW",
   "metadata": {
    "id": "6dzM2HlWlMaW"
   },
   "source": [
    "#  Aprendizaje no supervisado\n",
    "## Agrupación K-medias, jerárquica y DBSCAN"
   ]
  },
  {
   "cell_type": "markdown",
   "id": "lTuqznBmlhOG",
   "metadata": {
    "id": "lTuqznBmlhOG"
   },
   "source": [
    "Seguimos con la base de datos de consumidores de ayer."
   ]
  },
  {
   "cell_type": "code",
   "execution_count": null,
   "id": "5b711d2c",
   "metadata": {
    "id": "5b711d2c"
   },
   "outputs": [],
   "source": [
    "import numpy as np\n",
    "import pandas as pd\n",
    "import matplotlib.pyplot as plt\n",
    "import seaborn as sns\n",
    "\n",
    "import plotly as py\n",
    "import plotly.graph_objs as go\n",
    "\n",
    "from sklearn.cluster import KMeans\n",
    "\n",
    "from sklearn.cluster import DBSCAN\n",
    "\n",
    "from scipy.cluster.hierarchy import linkage, fcluster\n",
    "from scipy.cluster.hierarchy import dendrogram\n",
    "\n",
    "import warnings\n",
    "warnings.filterwarnings('ignore')"
   ]
  },
  {
   "cell_type": "markdown",
   "id": "a3UOVxVCDruu",
   "metadata": {
    "id": "a3UOVxVCDruu"
   },
   "source": [
    "## Datos\n",
    "Tenemos una base de datos: la unidad de observación son consumidores de un centro comercial."
   ]
  },
  {
   "cell_type": "code",
   "execution_count": null,
   "id": "7d838152",
   "metadata": {
    "id": "7d838152"
   },
   "outputs": [],
   "source": [
    "df = pd.read_csv('Mall_Customers.csv')\n",
    "df.head()"
   ]
  },
  {
   "cell_type": "markdown",
   "id": "1TZYTYw1mXvV",
   "metadata": {
    "id": "1TZYTYw1mXvV"
   },
   "source": [
    "### Visualicemos esos consumidores"
   ]
  },
  {
   "cell_type": "code",
   "execution_count": null,
   "id": "5809262c",
   "metadata": {
    "id": "5809262c"
   },
   "outputs": [],
   "source": [
    "plt.figure(1 , figsize = (15 , 7))\n",
    "plt.title('Scatter plot of Age v/s Spending Score', fontsize = 20)\n",
    "plt.xlabel('Age')\n",
    "plt.ylabel('Spending Score')\n",
    "plt.scatter( x = 'Age', y = 'Spending Score (1-100)', data = df, s = 100)\n",
    "plt.show()"
   ]
  },
  {
   "cell_type": "markdown",
   "id": "nqyf9ibvmfpE",
   "metadata": {
    "id": "nqyf9ibvmfpE"
   },
   "source": [
    "## Modelos\n",
    "Vamos a crear los siguientes modelos de agrupación y los vamos a comparar:\n",
    "* K-medias\n",
    "* Agrupación jerárquica\n",
    "* Agrupación por densidad DBSCAN"
   ]
  },
  {
   "cell_type": "markdown",
   "id": "PsTKPRryGIxx",
   "metadata": {
    "id": "PsTKPRryGIxx"
   },
   "source": [
    "### K-means\n",
    "En K-medias, los centros se mueven hacia los datos cercanos, y luego los datos cercanos escogen su centro más cercano, hasta que hay estabilidad."
   ]
  },
  {
   "cell_type": "code",
   "execution_count": null,
   "id": "s3yG51fiHE7X",
   "metadata": {
    "id": "s3yG51fiHE7X"
   },
   "outputs": [],
   "source": [
    "X1 = df[['Age' , 'Spending Score (1-100)']].iloc[: , :].values\n",
    "X1[0:5]"
   ]
  },
  {
   "cell_type": "code",
   "execution_count": null,
   "id": "6fd471c5-c0f3-44f7-bd77-87c8683641c8",
   "metadata": {},
   "outputs": [],
   "source": [
    "## Un modelo con 2 grupos\n",
    "\n",
    "algorithm = (KMeans(n_clusters = 2 ,init='k-means++', n_init = 10 ,max_iter=300,\n",
    "                        tol=0.0001,  random_state= 111  , algorithm='elkan') )\n",
    "algorithm.fit(X1)\n",
    "labels1 = algorithm.labels_\n",
    "centroids1 = algorithm.cluster_centers_"
   ]
  },
  {
   "cell_type": "code",
   "execution_count": null,
   "id": "5a512000-7f53-4f2c-be93-c3eb70ffbd64",
   "metadata": {},
   "outputs": [],
   "source": [
    "plt.figure(1 , figsize = (15 , 7) )\n",
    "plt.clf()\n",
    "plt.scatter( x = 'Age', y = 'Spending Score (1-100)', data = df, c = labels1, s = 100)\n",
    "#plt.scatter(x = centroids1[: , 0] , y =  centroids1[: , 1] , s = 300 , c = 'red' , alpha = 0.5)\n",
    "plt.ylabel('Spending Score (1-100)') , plt.xlabel('Age')\n",
    "plt.title('Agrupación por K-means')\n",
    "plt.show()"
   ]
  },
  {
   "cell_type": "markdown",
   "id": "3HdEOCHTAuRo",
   "metadata": {
    "id": "3HdEOCHTAuRo"
   },
   "source": [
    "### Análisis del codo"
   ]
  },
  {
   "cell_type": "code",
   "execution_count": null,
   "id": "jkn04eFnAuAu",
   "metadata": {
    "id": "jkn04eFnAuAu"
   },
   "outputs": [],
   "source": [
    "X1 = df[['Age' , 'Spending Score (1-100)']].iloc[: , :].values\n",
    "inertia = []\n",
    "for n in range(1 , 15):\n",
    "    algorithm = (KMeans(n_clusters = n ,init='k-means++', n_init = 10 ,max_iter=300,\n",
    "                        tol=0.0001,  random_state= 111  , algorithm='elkan') )\n",
    "    algorithm.fit(X1)\n",
    "    inertia.append(algorithm.inertia_)"
   ]
  },
  {
   "cell_type": "code",
   "execution_count": null,
   "id": "vXfaZ57jA05O",
   "metadata": {
    "id": "vXfaZ57jA05O"
   },
   "outputs": [],
   "source": [
    "plt.figure(1 , figsize = (15 ,6))\n",
    "plt.plot(np.arange(1 , 15) , inertia , 'o')\n",
    "plt.plot(np.arange(1 , 15) , inertia , '-' , alpha = 0.5)\n",
    "plt.xlabel('Number of Clusters') , plt.ylabel('Inertia')\n",
    "plt.show()"
   ]
  },
  {
   "cell_type": "markdown",
   "id": "rLXUEX09A48Q",
   "metadata": {
    "id": "rLXUEX09A48Q"
   },
   "source": [
    "**Observamos que** parece que la incercia se estabiliza al rededor de cuatro grupos. Este puede ser un punto de partida, **pero no camisa de fuerza**, el criterio del analista es clave."
   ]
  },
  {
   "cell_type": "code",
   "execution_count": null,
   "id": "fb5ac5fd",
   "metadata": {
    "id": "fb5ac5fd"
   },
   "outputs": [],
   "source": [
    "## Después de haber hecho el análisis del codo, nos quedábamos con 4 grupos:\n",
    "\n",
    "algorithm = (KMeans(n_clusters = 4 ,init='k-means++', n_init = 10 ,max_iter=300,\n",
    "                        tol=0.0001,  random_state= 111  , algorithm='elkan') )\n",
    "algorithm.fit(X1)\n",
    "labels1 = algorithm.labels_\n",
    "centroids1 = algorithm.cluster_centers_"
   ]
  },
  {
   "cell_type": "code",
   "execution_count": null,
   "id": "yIfPcwfpGWv5",
   "metadata": {
    "id": "yIfPcwfpGWv5"
   },
   "outputs": [],
   "source": [
    "plt.figure(1 , figsize = (15 , 7) )\n",
    "plt.clf()\n",
    "plt.scatter( x = 'Age', y = 'Spending Score (1-100)', data = df, c = labels1, s = 100)\n",
    "#plt.scatter(x = centroids1[: , 0] , y =  centroids1[: , 1] , s = 300 , c = 'red' , alpha = 0.5)\n",
    "plt.ylabel('Spending Score (1-100)') , plt.xlabel('Age')\n",
    "plt.title('Agrupación por K-means')\n",
    "plt.show()"
   ]
  },
  {
   "cell_type": "markdown",
   "id": "0gDlmfhBGD8i",
   "metadata": {
    "id": "0gDlmfhBGD8i"
   },
   "source": [
    "### Jerárquica\n",
    "[Referencia](https://colab.research.google.com/github/goodboychan/chans_jupyter/blob/master/_notebooks/2020-06-06-02-Hierarchical-Clustering.ipynb#scrollTo=CdHHHWloEbov)"
   ]
  },
  {
   "cell_type": "code",
   "execution_count": null,
   "id": "lNc-lENEIu8E",
   "metadata": {
    "id": "lNc-lENEIu8E"
   },
   "outputs": [],
   "source": [
    "# Formato correcto de los datos\n",
    "X = df[['Age' , 'Spending Score (1-100)']]\n",
    "X.head()"
   ]
  },
  {
   "cell_type": "code",
   "execution_count": null,
   "id": "Ql7QlwjCXF47",
   "metadata": {
    "id": "Ql7QlwjCXF47"
   },
   "outputs": [],
   "source": [
    "# Use the linkage()\n",
    "distance_matrix = linkage(X, method='single', metric='euclidean')\n",
    "\n",
    "# Assign cluster labels\n",
    "numero_grupos = 5\n",
    "# maxclust: En cuentra la distancia óptima entre dos observaciones para la creación de grupos\n",
    "X['Grupo'] = fcluster(distance_matrix, numero_grupos, criterion='maxclust')\n",
    "\n",
    "# Plot clusters\n",
    "plt.figure(2 , figsize = (15 , 7) )\n",
    "plt.title('Agrupación Jerárquica')\n",
    "sns.scatterplot(x='Age', y='Spending Score (1-100)', s=100, hue='Grupo', data=X, palette='colorblind')"
   ]
  },
  {
   "cell_type": "code",
   "execution_count": null,
   "id": "5ITx6U3aTjid",
   "metadata": {
    "id": "5ITx6U3aTjid"
   },
   "outputs": [],
   "source": [
    "plt.title('Dendograma para 5 grupos')\n",
    "dendrogram(distance_matrix)"
   ]
  },
  {
   "cell_type": "markdown",
   "id": "Z6lzmNeQGFmg",
   "metadata": {
    "id": "Z6lzmNeQGFmg"
   },
   "source": [
    "### DBSCAN"
   ]
  },
  {
   "cell_type": "code",
   "execution_count": null,
   "id": "fxZ42znoZgQX",
   "metadata": {
    "id": "fxZ42znoZgQX"
   },
   "outputs": [],
   "source": [
    "# Usamos este formato\n",
    "X1[0:5]"
   ]
  },
  {
   "cell_type": "code",
   "execution_count": null,
   "id": "uakJ92pRZKGP",
   "metadata": {
    "id": "uakJ92pRZKGP"
   },
   "outputs": [],
   "source": [
    "# eps: distancia máxima\n",
    "# min_samples: número de datos para ser popular\n",
    "modeloDensidad = DBSCAN(eps=6, min_samples=3).fit(X)\n",
    "etiquetas = modeloDensidad.labels_\n",
    "modeloDensidad"
   ]
  },
  {
   "cell_type": "code",
   "execution_count": null,
   "id": "wChsNDrXZ-xR",
   "metadata": {
    "id": "wChsNDrXZ-xR"
   },
   "outputs": [],
   "source": [
    "plt.figure(3 , figsize = (15 , 7) )\n",
    "plt.title('Agrupación por DBSCAN')\n",
    "c= sns.scatterplot(x='Age', y='Spending Score (1-100)', s=100, hue=etiquetas, data=X, palette='colorblind')\n",
    "c.legend(loc='center left', bbox_to_anchor=(1, 0.5), ncol=1)"
   ]
  }
 ],
 "metadata": {
  "colab": {
   "provenance": [],
   "toc_visible": true
  },
  "kernelspec": {
   "display_name": "Python 3 (ipykernel)",
   "language": "python",
   "name": "python3"
  },
  "language_info": {
   "codemirror_mode": {
    "name": "ipython",
    "version": 3
   },
   "file_extension": ".py",
   "mimetype": "text/x-python",
   "name": "python",
   "nbconvert_exporter": "python",
   "pygments_lexer": "ipython3",
   "version": "3.12.3"
  }
 },
 "nbformat": 4,
 "nbformat_minor": 5
}
